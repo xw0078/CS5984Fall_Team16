{
 "cells": [
  {
   "cell_type": "code",
   "execution_count": 2,
   "metadata": {},
   "outputs": [],
   "source": [
    "from pythonrouge.pythonrouge import Pythonrouge\n",
    "import glob\n",
    "import os\n",
    "import shutil\n",
    "import re"
   ]
  },
  {
   "cell_type": "code",
   "execution_count": 3,
   "metadata": {},
   "outputs": [],
   "source": [
    "def make_dir(new_dir):\n",
    "    if os.path.exists(new_dir):\n",
    "        shutil.rmtree(new_dir)\n",
    "        os.makedirs(new_dir)\n",
    "    else:\n",
    "        os.makedirs(new_dir)\n",
    "\n",
    "def formatting_for_pythonrouge(input_dir):\n",
    "    new_dec_dir = input_dir+\"pythonrouge/dec/\"\n",
    "    new_ref_dir = input_dir+\"pythonrouge/ref/\"\n",
    "    make_dir(new_dec_dir)\n",
    "    make_dir(new_ref_dir)\n",
    "    \n",
    "    dec_paths = glob.glob(input_dir+\"rouge_dec_dir/*.txt\")\n",
    "    ref_paths = glob.glob(input_dir+\"rouge_ref/*.txt\")\n",
    "    \n",
    "    for d in dec_paths:\n",
    "        dirname, filename = os.path.split(d)\n",
    "        with open(d,\"r\") as dec_file:\n",
    "            dec = dec_file.read()\n",
    "        new_filename = filename.replace(\"_decoded\",\"\")\n",
    "        with open(new_dec_dir+new_filename,\"w+\") as new_dec_file:\n",
    "            new_dec_file.write(dec)\n",
    "        \n",
    "        with open(input_dir+\"rouge_ref/\"+filename.replace(\"decoded\",\"reference\")) as ref_file:\n",
    "            ref = ref_file.read()\n",
    "        #new_filename = new_filename.replace(\".\",\".1.\")\n",
    "        with open(new_ref_dir+new_filename,\"w+\") as new_ref_file:\n",
    "            new_ref_file.write(ref)\n",
    "\n",
    "            \n",
    "def one_sample_test(decoded_file):\n",
    "    new_dec_dir = \"/home/xw0078/data/cs5984_etd/test_result/1s_tmp/\"+\"pythonrouge/dec/\"\n",
    "    new_ref_dir = \"/home/xw0078/data/cs5984_etd/test_result/1s_tmp/\"+\"pythonrouge/ref/\"\n",
    "    make_dir(new_dec_dir)\n",
    "    make_dir(new_ref_dir)\n",
    "    shutil.copyfile(decoded_file, new_dec_dir+\"tmp.txt\")\n",
    "    shutil.copyfile(decoded_file.replace(\"dec_good_name\",\"ref_good_name\").replace(\"decoded\",\"reference\"), new_ref_dir+\"tmp.txt\")\n",
    "    rouge = Pythonrouge(summary_file_exist=True,\n",
    "                    peer_path=new_dec_dir, model_path=new_ref_dir,\n",
    "                    n_gram=2, ROUGE_SU4=True, ROUGE_L=True,\n",
    "                    recall_only=True,\n",
    "                    stemming=True, stopwords=True,\n",
    "                    word_level=True, length_limit=True, length=50,\n",
    "                    use_cf=False, cf=95, scoring_formula='average',\n",
    "                    resampling=True, samples=1000, favor=True, p=0.5)\n",
    "    score = rouge.calc_score()\n",
    "    print(score)\n",
    "    \n",
    "def one_sample_all_exp(filename):\n",
    "    cnn = \"/home/xw0078/data/cs5984_etd/test_result/gs_t16_M_pt_cnn/dec_good_name/\"+filename+\".decoded\"\n",
    "    wikiAll = \"/home/xw0078/data/cs5984_etd/test_result/gs_t16_M_pt_wikiAll/dec_good_name/\"+filename+\".decoded\"\n",
    "    cnn_wikiTh = \"/home/xw0078/data/cs5984_etd/test_result/gs_t16_M_pt_cnn_with_wikiTh/dec_good_name/\"+filename+\".decoded\"\n",
    "    cnn_wikiAll = \"/home/xw0078/data/cs5984_etd/test_result/gs_t16_M_pt_cnn_with_wikiAll/dec_good_name/\"+filename+\".decoded\"\n",
    "    \n",
    "    print(\"CNN\")\n",
    "    one_sample_test(cnn)\n",
    "    print(\"wikiAll\")\n",
    "    one_sample_test(wikiAll)\n",
    "    print(\"cnn_wikiTh\")\n",
    "    one_sample_test(cnn_wikiTh)\n",
    "    print(\"cnn_wikiAll\")\n",
    "    one_sample_test(cnn_wikiAll)\n",
    "    "
   ]
  },
  {
   "cell_type": "code",
   "execution_count": 10,
   "metadata": {},
   "outputs": [],
   "source": [
    "formatting_for_pythonrouge(\"/home/xw0078/data/cs5984_etd/test_result/gs_t16_M_pt_wikiAll_v2_300k/\")"
   ]
  },
  {
   "cell_type": "code",
   "execution_count": 79,
   "metadata": {},
   "outputs": [
    {
     "name": "stdout",
     "output_type": "stream",
     "text": [
      "CNN\n",
      "{'ROUGE-1': 0.05556, 'ROUGE-2': 0.0, 'ROUGE-L': 0.05556, 'ROUGE-SU4': 0.01087}\n",
      "wikiAll\n",
      "{'ROUGE-1': 0.05556, 'ROUGE-2': 0.0, 'ROUGE-L': 0.05556, 'ROUGE-SU4': 0.01087}\n",
      "cnn_wikiTh\n",
      "{'ROUGE-1': 0.0, 'ROUGE-2': 0.0, 'ROUGE-L': 0.0, 'ROUGE-SU4': 0.0}\n",
      "cnn_wikiAll\n",
      "{'ROUGE-1': 0.05556, 'ROUGE-2': 0.0, 'ROUGE-L': 0.05556, 'ROUGE-SU4': 0.01087}\n"
     ]
    }
   ],
   "source": [
    "one_sample_all_exp(\"th_17265_ch4\")"
   ]
  },
  {
   "cell_type": "markdown",
   "metadata": {},
   "source": [
    "# CNN"
   ]
  },
  {
   "cell_type": "code",
   "execution_count": 81,
   "metadata": {},
   "outputs": [
    {
     "name": "stdout",
     "output_type": "stream",
     "text": [
      "{'ROUGE-1': 0.23783, 'ROUGE-2': 0.09704, 'ROUGE-L': 0.21277, 'ROUGE-SU4': 0.10095}\n"
     ]
    }
   ],
   "source": [
    "summary_path = \"/home/xw0078/data/cs5984_etd/test_result/gs_t16_M_pt_cnn/pythonrouge/dec/\"\n",
    "reference_path = \"/home/xw0078/data/cs5984_etd/test_result/gs_t16_M_pt_cnn/pythonrouge/ref/\"\n",
    "rouge = Pythonrouge(summary_file_exist=True,\n",
    "                    peer_path=summary_path, model_path=reference_path,\n",
    "                    n_gram=2, ROUGE_SU4=True, ROUGE_L=True,\n",
    "                    recall_only=True,\n",
    "                    stemming=True, stopwords=True,\n",
    "                    word_level=True, length_limit=True, length=50,\n",
    "                    use_cf=False, cf=95, scoring_formula='average',\n",
    "                    resampling=True, samples=1000, favor=True, p=0.5)\n",
    "score = rouge.calc_score()\n",
    "print(score)"
   ]
  },
  {
   "cell_type": "code",
   "execution_count": 93,
   "metadata": {},
   "outputs": [
    {
     "name": "stdout",
     "output_type": "stream",
     "text": [
      "{'ROUGE-1': 0.22982, 'ROUGE-2': 0.07827, 'ROUGE-L': 0.2068, 'ROUGE-SU4': 0.08853}\n"
     ]
    }
   ],
   "source": [
    "summary_path = \"/home/xw0078/data/cs5984_etd/test_result/gs_t16_M_pt_cnn_v2/pythonrouge/dec/\"\n",
    "reference_path = \"/home/xw0078/data/cs5984_etd/test_result/gs_t16_M_pt_cnn_v2/pythonrouge/ref/\"\n",
    "rouge = Pythonrouge(summary_file_exist=True,\n",
    "                    peer_path=summary_path, model_path=reference_path,\n",
    "                    n_gram=2, ROUGE_SU4=True, ROUGE_L=True,\n",
    "                    recall_only=True,\n",
    "                    stemming=True, stopwords=True,\n",
    "                    word_level=True, length_limit=True, length=50,\n",
    "                    use_cf=False, cf=95, scoring_formula='average',\n",
    "                    resampling=True, samples=1000, favor=True, p=0.5)\n",
    "score = rouge.calc_score()\n",
    "print(score)"
   ]
  },
  {
   "cell_type": "markdown",
   "metadata": {},
   "source": [
    "# WikiAll"
   ]
  },
  {
   "cell_type": "code",
   "execution_count": 82,
   "metadata": {},
   "outputs": [
    {
     "name": "stdout",
     "output_type": "stream",
     "text": [
      "{'ROUGE-1': 0.17199, 'ROUGE-2': 0.0562, 'ROUGE-L': 0.15392, 'ROUGE-SU4': 0.05772}\n"
     ]
    }
   ],
   "source": [
    "summary_path = \"/home/xw0078/data/cs5984_etd/test_result/gs_t16_M_pt_wikiAll/pythonrouge/dec/\"\n",
    "reference_path = \"/home/xw0078/data/cs5984_etd/test_result/gs_t16_M_pt_wikiAll/pythonrouge/ref/\"\n",
    "rouge = Pythonrouge(summary_file_exist=True,\n",
    "                    peer_path=summary_path, model_path=reference_path,\n",
    "                    n_gram=2, ROUGE_SU4=True, ROUGE_L=True,\n",
    "                    recall_only=True,\n",
    "                    stemming=True, stopwords=True,\n",
    "                    word_level=True, length_limit=True, length=50,\n",
    "                    use_cf=False, cf=95, scoring_formula='average',\n",
    "                    resampling=True, samples=1000, favor=True, p=0.5)\n",
    "score = rouge.calc_score()\n",
    "print(score)"
   ]
  },
  {
   "cell_type": "code",
   "execution_count": 6,
   "metadata": {},
   "outputs": [
    {
     "name": "stdout",
     "output_type": "stream",
     "text": [
      "{'ROUGE-1': 0.18828, 'ROUGE-2': 0.06504, 'ROUGE-L': 0.17319, 'ROUGE-SU4': 0.07161}\n"
     ]
    }
   ],
   "source": [
    "summary_path = \"/home/xw0078/data/cs5984_etd/test_result/gs_t16_M_pt_wikiAll_v2_400k/pythonrouge/dec/\"\n",
    "reference_path = \"/home/xw0078/data/cs5984_etd/test_result/gs_t16_M_pt_wikiAll_v2_400k/pythonrouge/ref/\"\n",
    "rouge = Pythonrouge(summary_file_exist=True,\n",
    "                    peer_path=summary_path, model_path=reference_path,\n",
    "                    n_gram=2, ROUGE_SU4=True, ROUGE_L=True,\n",
    "                    recall_only=True,\n",
    "                    stemming=True, stopwords=True,\n",
    "                    word_level=True, length_limit=True, length=50,\n",
    "                    use_cf=False, cf=95, scoring_formula='average',\n",
    "                    resampling=True, samples=1000, favor=True, p=0.5)\n",
    "score = rouge.calc_score()\n",
    "print(score)"
   ]
  },
  {
   "cell_type": "code",
   "execution_count": 9,
   "metadata": {},
   "outputs": [
    {
     "name": "stdout",
     "output_type": "stream",
     "text": [
      "{'ROUGE-1': 0.17153, 'ROUGE-2': 0.05731, 'ROUGE-L': 0.15523, 'ROUGE-SU4': 0.05979}\n"
     ]
    }
   ],
   "source": [
    "summary_path = \"/home/xw0078/data/cs5984_etd/test_result/gs_t16_M_pt_wikiAll_v2/pythonrouge/dec/\"\n",
    "reference_path = \"/home/xw0078/data/cs5984_etd/test_result/gs_t16_M_pt_wikiAll_v2/pythonrouge/ref/\"\n",
    "rouge = Pythonrouge(summary_file_exist=True,\n",
    "                    peer_path=summary_path, model_path=reference_path,\n",
    "                    n_gram=2, ROUGE_SU4=True, ROUGE_L=True,\n",
    "                    recall_only=True,\n",
    "                    stemming=True, stopwords=True,\n",
    "                    word_level=True, length_limit=True, length=50,\n",
    "                    use_cf=False, cf=95, scoring_formula='average',\n",
    "                    resampling=True, samples=1000, favor=True, p=0.5)\n",
    "score = rouge.calc_score()\n",
    "print(score)"
   ]
  },
  {
   "cell_type": "code",
   "execution_count": 11,
   "metadata": {},
   "outputs": [
    {
     "name": "stdout",
     "output_type": "stream",
     "text": [
      "{'ROUGE-1': 0.16586, 'ROUGE-2': 0.05891, 'ROUGE-L': 0.15515, 'ROUGE-SU4': 0.05779}\n"
     ]
    }
   ],
   "source": [
    "summary_path = \"/home/xw0078/data/cs5984_etd/test_result/gs_t16_M_pt_wikiAll_v2_300k/pythonrouge/dec/\"\n",
    "reference_path = \"/home/xw0078/data/cs5984_etd/test_result/gs_t16_M_pt_wikiAll_v2_300k/pythonrouge/ref/\"\n",
    "rouge = Pythonrouge(summary_file_exist=True,\n",
    "                    peer_path=summary_path, model_path=reference_path,\n",
    "                    n_gram=2, ROUGE_SU4=True, ROUGE_L=True,\n",
    "                    recall_only=True,\n",
    "                    stemming=True, stopwords=True,\n",
    "                    word_level=True, length_limit=True, length=50,\n",
    "                    use_cf=False, cf=95, scoring_formula='average',\n",
    "                    resampling=True, samples=1000, favor=True, p=0.5)\n",
    "score = rouge.calc_score()\n",
    "print(score)"
   ]
  },
  {
   "cell_type": "markdown",
   "metadata": {},
   "source": [
    "# CNN+WikiTh"
   ]
  },
  {
   "cell_type": "code",
   "execution_count": 95,
   "metadata": {},
   "outputs": [
    {
     "name": "stdout",
     "output_type": "stream",
     "text": [
      "{'ROUGE-1': 0.19376, 'ROUGE-2': 0.07587, 'ROUGE-L': 0.17449, 'ROUGE-SU4': 0.08154}\n"
     ]
    }
   ],
   "source": [
    "summary_path = \"/home/xw0078/data/cs5984_etd/test_result/gs_t16_M_pt_cnn_with_wikiTh/pythonrouge/dec/\"\n",
    "reference_path = \"/home/xw0078/data/cs5984_etd/test_result/gs_t16_M_pt_cnn_with_wikiTh/pythonrouge/ref/\"\n",
    "rouge = Pythonrouge(summary_file_exist=True,\n",
    "                    peer_path=summary_path, model_path=reference_path,\n",
    "                    n_gram=2, ROUGE_SU4=True, ROUGE_L=True,\n",
    "                    recall_only=True,\n",
    "                    stemming=True, stopwords=True,\n",
    "                    word_level=True, length_limit=True, length=50,\n",
    "                    use_cf=False, cf=95, scoring_formula='average',\n",
    "                    resampling=True, samples=1000, favor=True, p=0.5)\n",
    "score = rouge.calc_score()\n",
    "print(score)"
   ]
  },
  {
   "cell_type": "code",
   "execution_count": 96,
   "metadata": {},
   "outputs": [
    {
     "name": "stdout",
     "output_type": "stream",
     "text": [
      "{'ROUGE-1': 0.21424, 'ROUGE-2': 0.07804, 'ROUGE-L': 0.18966, 'ROUGE-SU4': 0.07871}\n"
     ]
    }
   ],
   "source": [
    "summary_path = \"/home/xw0078/data/cs5984_etd/test_result/gs_t16_M_pt_cnn_with_wikiTh_v2/pythonrouge/dec/\"\n",
    "reference_path = \"/home/xw0078/data/cs5984_etd/test_result/gs_t16_M_pt_cnn_with_wikiTh_v2/pythonrouge/ref/\"\n",
    "rouge = Pythonrouge(summary_file_exist=True,\n",
    "                    peer_path=summary_path, model_path=reference_path,\n",
    "                    n_gram=2, ROUGE_SU4=True, ROUGE_L=True,\n",
    "                    recall_only=True,\n",
    "                    stemming=True, stopwords=True,\n",
    "                    word_level=True, length_limit=True, length=50,\n",
    "                    use_cf=False, cf=95, scoring_formula='average',\n",
    "                    resampling=True, samples=1000, favor=True, p=0.5)\n",
    "score = rouge.calc_score()\n",
    "print(score)"
   ]
  },
  {
   "cell_type": "markdown",
   "metadata": {},
   "source": [
    "# CNN+WikiAll"
   ]
  },
  {
   "cell_type": "code",
   "execution_count": 84,
   "metadata": {},
   "outputs": [
    {
     "name": "stdout",
     "output_type": "stream",
     "text": [
      "{'ROUGE-1': 0.11133, 'ROUGE-2': 0.0336, 'ROUGE-L': 0.10251, 'ROUGE-SU4': 0.03646}\n"
     ]
    }
   ],
   "source": [
    "summary_path = \"/home/xw0078/data/cs5984_etd/test_result/gs_t16_M_pt_cnn_with_wikiAll/pythonrouge/dec/\"\n",
    "reference_path = \"/home/xw0078/data/cs5984_etd/test_result/gs_t16_M_pt_cnn_with_wikiAll/pythonrouge/ref/\"\n",
    "rouge = Pythonrouge(summary_file_exist=True,\n",
    "                    peer_path=summary_path, model_path=reference_path,\n",
    "                    n_gram=2, ROUGE_SU4=True, ROUGE_L=True,\n",
    "                    recall_only=True,\n",
    "                    stemming=True, stopwords=True,\n",
    "                    word_level=True, length_limit=True, length=50,\n",
    "                    use_cf=False, cf=95, scoring_formula='average',\n",
    "                    resampling=True, samples=1000, favor=True, p=0.5)\n",
    "score = rouge.calc_score()\n",
    "print(score)"
   ]
  },
  {
   "cell_type": "code",
   "execution_count": 7,
   "metadata": {},
   "outputs": [
    {
     "name": "stdout",
     "output_type": "stream",
     "text": [
      "{'ROUGE-1': 0.13725, 'ROUGE-2': 0.04079, 'ROUGE-L': 0.1219, 'ROUGE-SU4': 0.04692}\n"
     ]
    }
   ],
   "source": [
    "summary_path = \"/home/xw0078/data/cs5984_etd/test_result/gs_t16_M_pt_cnn_with_wikiAll_v2/pythonrouge/dec/\"\n",
    "reference_path = \"/home/xw0078/data/cs5984_etd/test_result/gs_t16_M_pt_cnn_with_wikiAll_v2/pythonrouge/ref/\"\n",
    "rouge = Pythonrouge(summary_file_exist=True,\n",
    "                    peer_path=summary_path, model_path=reference_path,\n",
    "                    n_gram=2, ROUGE_SU4=True, ROUGE_L=True,\n",
    "                    recall_only=True,\n",
    "                    stemming=True, stopwords=True,\n",
    "                    word_level=True, length_limit=True, length=50,\n",
    "                    use_cf=False, cf=95, scoring_formula='average',\n",
    "                    resampling=True, samples=1000, favor=True, p=0.5)\n",
    "score = rouge.calc_score()\n",
    "print(score)"
   ]
  },
  {
   "cell_type": "markdown",
   "metadata": {},
   "source": [
    "# CNN_TEST: CNN+WikiTh"
   ]
  },
  {
   "cell_type": "code",
   "execution_count": 85,
   "metadata": {},
   "outputs": [],
   "source": [
    "summary_path = \"/home/xw0078/data/cs5984_etd/test_result/cnnTest_M_pt_cnn_with_wikiTh/pythonrouge/dec/\"\n",
    "reference_path = \"/home/xw0078/data/cs5984_etd/test_result/cnnTest_M_pt_cnn_with_wikiTh/pythonrouge/ref/\""
   ]
  },
  {
   "cell_type": "code",
   "execution_count": 86,
   "metadata": {},
   "outputs": [
    {
     "name": "stdout",
     "output_type": "stream",
     "text": [
      "{'ROUGE-1': 0.32081, 'ROUGE-2': 0.14769, 'ROUGE-L': 0.3043, 'ROUGE-SU4': 0.14429}\n"
     ]
    }
   ],
   "source": [
    "# initialize setting of ROUGE to eval ROUGE-1, 2, SU4\n",
    "# if you evaluate ROUGE by sentence list as above, set summary_file_exist=False\n",
    "# if recall_only=True, you can get recall scores of ROUGE\n",
    "rouge = Pythonrouge(summary_file_exist=True,\n",
    "                    peer_path=summary_path, model_path=reference_path,\n",
    "                    n_gram=2, ROUGE_SU4=True, ROUGE_L=True,\n",
    "                    recall_only=True,\n",
    "                    stemming=True, stopwords=True,\n",
    "                    word_level=True, length_limit=True, length=50,\n",
    "                    use_cf=False, cf=95, scoring_formula='average',\n",
    "                    resampling=True, samples=1000, favor=True, p=0.5)\n",
    "score = rouge.calc_score()\n",
    "print(score)"
   ]
  },
  {
   "cell_type": "code",
   "execution_count": 90,
   "metadata": {},
   "outputs": [
    {
     "name": "stdout",
     "output_type": "stream",
     "text": [
      "{'ROUGE-1': 0.33707, 'ROUGE-2': 0.15606, 'ROUGE-L': 0.31978, 'ROUGE-SU4': 0.15244}\n"
     ]
    }
   ],
   "source": [
    "summary_path = \"/home/xw0078/data/cs5984_etd/test_result/cnnTest_M_pt_cnn_with_wikiAll/pythonrouge/dec/\"\n",
    "reference_path = \"/home/xw0078/data/cs5984_etd/test_result/cnnTest_M_pt_cnn_with_wikiAll/pythonrouge/ref/\"\n",
    "# initialize setting of ROUGE to eval ROUGE-1, 2, SU4\n",
    "# if you evaluate ROUGE by sentence list as above, set summary_file_exist=False\n",
    "# if recall_only=True, you can get recall scores of ROUGE\n",
    "rouge = Pythonrouge(summary_file_exist=True,\n",
    "                    peer_path=summary_path, model_path=reference_path,\n",
    "                    n_gram=2, ROUGE_SU4=True, ROUGE_L=True,\n",
    "                    recall_only=True,\n",
    "                    stemming=True, stopwords=True,\n",
    "                    word_level=True, length_limit=True, length=50,\n",
    "                    use_cf=False, cf=95, scoring_formula='average',\n",
    "                    resampling=True, samples=1000, favor=True, p=0.5)\n",
    "score = rouge.calc_score()\n",
    "print(score)"
   ]
  },
  {
   "cell_type": "code",
   "execution_count": null,
   "metadata": {},
   "outputs": [],
   "source": []
  }
 ],
 "metadata": {
  "kernelspec": {
   "display_name": "Python [conda env:base-p36]",
   "language": "python",
   "name": "conda-env-base-p36-py"
  },
  "language_info": {
   "codemirror_mode": {
    "name": "ipython",
    "version": 3
   },
   "file_extension": ".py",
   "mimetype": "text/x-python",
   "name": "python",
   "nbconvert_exporter": "python",
   "pygments_lexer": "ipython3",
   "version": "3.6.7"
  }
 },
 "nbformat": 4,
 "nbformat_minor": 2
}
