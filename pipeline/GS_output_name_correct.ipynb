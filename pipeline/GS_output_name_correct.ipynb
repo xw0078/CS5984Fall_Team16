{
 "cells": [
  {
   "cell_type": "code",
   "execution_count": 89,
   "metadata": {},
   "outputs": [],
   "source": [
    "import glob\n",
    "import os\n",
    "from fuzzywuzzy import fuzz\n",
    "import shutil"
   ]
  },
  {
   "cell_type": "code",
   "execution_count": 161,
   "metadata": {},
   "outputs": [],
   "source": [
    "#read original the gs abstract txt files\n",
    "def get_gs_abstract(input_dir):\n",
    "    abs_paths = glob.glob(input_dir+\"*.abstract\")\n",
    "    result = {}\n",
    "    for x in abs_paths:\n",
    "        dirname, filename = os.path.split(x)\n",
    "        #print(filename)\n",
    "        with open(x, 'r') as abstract_file:\n",
    "            abstract = abstract_file.read()\n",
    "        if filename and abstract:\n",
    "            result[filename] = abstract\n",
    "    return result\n",
    "\n",
    "\n",
    "            \n",
    "def correct_decoded(gs_abstract,decoded_dir):\n",
    "    new_dir = decoded_dir+\"dec_good_name/\"\n",
    "    if os.path.exists(new_dir):\n",
    "        shutil.rmtree(new_dir)\n",
    "        os.makedirs(new_dir)\n",
    "    else:\n",
    "        os.makedirs(new_dir)\n",
    "    txt_paths = glob.glob(decoded_dir+\"rouge_dec_dir/*.txt\")\n",
    "    \n",
    "    for x in txt_paths:\n",
    "        correct_name = \"\"\n",
    "        dirname, filename = os.path.split(x)\n",
    "        #print(filename)\n",
    "        with open(x, 'r') as dec_file:\n",
    "            decoded = dec_file.read()\n",
    "        with open(dirname.replace(\"rouge_dec_dir\",\"rouge_ref\")+\"/\"+filename.replace(\"decoded\",\"reference\"), 'r') as ref_file:\n",
    "            ref = ref_file.read()\n",
    "            #print(ref)\n",
    "        best = 0\n",
    "        for item in gs_abstract:\n",
    "            sim_score = fuzz.ratio(gs_abstract[item],ref)\n",
    "            if sim_score > best:\n",
    "                best = sim_score\n",
    "                correct_name = item.replace(\"abstract\",\"decoded\")\n",
    "        if correct_name:\n",
    "            #print(str(best)+\":\"+filename)\n",
    "            with open(new_dir+correct_name, 'w+') as dec_file:\n",
    "                dec_file.write(decoded)\n",
    "        else:\n",
    "            print(\"Error: no matching:\"+filename)\n",
    "            print(ref)\n",
    "            for item in gs_abstract:\n",
    "                sim_score = fuzz.ratio(gs_abstract[item],ref)\n",
    "                #print(str(sim_score)+\":\"+item)"
   ]
  },
  {
   "cell_type": "code",
   "execution_count": 162,
   "metadata": {},
   "outputs": [
    {
     "data": {
      "text/plain": [
       "64"
      ]
     },
     "execution_count": 162,
     "metadata": {},
     "output_type": "execute_result"
    }
   ],
   "source": [
    "gs_abstract = get_gs_abstract(\"/home/xw0078/data/cs5984_etd/test_data/revised_gs/\")\n",
    "len(gs_abstract)"
   ]
  },
  {
   "cell_type": "code",
   "execution_count": 163,
   "metadata": {},
   "outputs": [],
   "source": [
    "correct_decoded(gs_abstract,\"/home/xw0078/data/cs5984_etd/test_result/gs_t16_M_pt_wikiAll/\")"
   ]
  },
  {
   "cell_type": "code",
   "execution_count": 164,
   "metadata": {},
   "outputs": [],
   "source": [
    "correct_decoded(gs_abstract,\"/home/xw0078/data/cs5984_etd/test_result/gs_t16_M_pt_cnn_with_wikiTh/\")"
   ]
  },
  {
   "cell_type": "code",
   "execution_count": 165,
   "metadata": {},
   "outputs": [],
   "source": [
    "correct_decoded(gs_abstract,\"/home/xw0078/data/cs5984_etd/test_result/gs_t16_M_pt_cnn/\")"
   ]
  },
  {
   "cell_type": "code",
   "execution_count": 166,
   "metadata": {},
   "outputs": [],
   "source": [
    "correct_decoded(gs_abstract,\"/home/xw0078/data/cs5984_etd/test_result/gs_t16_M_pt_cnn_with_wikiAll/\")"
   ]
  },
  {
   "cell_type": "code",
   "execution_count": null,
   "metadata": {},
   "outputs": [],
   "source": []
  }
 ],
 "metadata": {
  "kernelspec": {
   "display_name": "Python 3",
   "language": "python",
   "name": "python3"
  },
  "language_info": {
   "codemirror_mode": {
    "name": "ipython",
    "version": 3
   },
   "file_extension": ".py",
   "mimetype": "text/x-python",
   "name": "python",
   "nbconvert_exporter": "python",
   "pygments_lexer": "ipython3",
   "version": "3.7.0"
  }
 },
 "nbformat": 4,
 "nbformat_minor": 2
}
