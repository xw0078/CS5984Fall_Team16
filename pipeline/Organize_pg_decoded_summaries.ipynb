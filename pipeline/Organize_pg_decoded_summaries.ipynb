{
 "cells": [
  {
   "cell_type": "code",
   "execution_count": 1,
   "metadata": {},
   "outputs": [],
   "source": [
    "import glob\n",
    "import os\n",
    "from fuzzywuzzy import fuzz\n",
    "import shutil"
   ]
  },
  {
   "cell_type": "code",
   "execution_count": 23,
   "metadata": {},
   "outputs": [],
   "source": [
    "def get_decoded_abstract(input_dir):\n",
    "    experiment_name = input_dir.split(\"/\")[-2]\n",
    "    print(experiment_name)\n",
    "    dec_paths = glob.glob(input_dir+\"dec_good_name/*.decoded\")\n",
    "    for x in dec_paths:\n",
    "        dirname, filename = os.path.split(x)\n",
    "        #print(dirname)\n",
    "\n",
    "\n",
    "def get_dec_through_name(input_file):\n",
    "    with open(input_file,\"r\") as dec_file:\n",
    "        dec = dec_file.read()\n",
    "        print(dec)\n",
    "    \n",
    "def print_all_exp(filename):\n",
    "    cnn = \"/home/xw0078/data/cs5984_etd/test_result/gs_t16_M_pt_cnn/dec_good_name/\"+filename+\".decoded\"\n",
    "    wikiAll = \"/home/xw0078/data/cs5984_etd/test_result/gs_t16_M_pt_wikiAll/dec_good_name/\"+filename+\".decoded\"\n",
    "    cnn_wikiTh = \"/home/xw0078/data/cs5984_etd/test_result/gs_t16_M_pt_cnn_with_wikiTh/dec_good_name/\"+filename+\".decoded\"\n",
    "    cnn_wikiAll = \"/home/xw0078/data/cs5984_etd/test_result/gs_t16_M_pt_cnn_with_wikiAll/dec_good_name/\"+filename+\".decoded\"\n",
    "    \n",
    "    print(\"CNN\")\n",
    "    print(\"--------------------------------------------------------------------------------------------------------------------\")\n",
    "    get_dec_through_name(cnn)\n",
    "    print(\"\")\n",
    "    print(\"wikiAll\")\n",
    "    print(\"--------------------------------------------------------------------------------------------------------------------\")\n",
    "    get_dec_through_name(wikiAll)\n",
    "    print(\"\")\n",
    "    print(\"cnn_wikiTh\")\n",
    "    print(\"--------------------------------------------------------------------------------------------------------------------\")\n",
    "    get_dec_through_name(cnn_wikiTh)\n",
    "    print(\"\")\n",
    "    print(\"cnn_wikiAll\")\n",
    "    print(\"--------------------------------------------------------------------------------------------------------------------\")\n",
    "    get_dec_through_name(cnn_wikiAll)\n",
    "    "
   ]
  },
  {
   "cell_type": "code",
   "execution_count": 24,
   "metadata": {},
   "outputs": [
    {
     "name": "stdout",
     "output_type": "stream",
     "text": [
      "CNN\n",
      "--------------------------------------------------------------------------------------------------------------------\n",
      "The Generation using Factored Explorations Concolic execution on its own is hindered by the same limitations of path explosion and computational eﬀort of evaluation with a large number of cycles .\n",
      "The demonstrated in -LSB- , factoring the exploration into a smaller number of cycles and combining the results of each exploration role .\n",
      "\n",
      "wikiAll\n",
      "--------------------------------------------------------------------------------------------------------------------\n",
      "The CORT test is a tool used to measure the cost of test generation problem -LRB- RTL -RRB- of evaluation over a large number of cycles .\n",
      "It is based on the premise that the design of the test generation problem is based on path explosion and computational eﬀort of evaluation over a large number of cycles .\n",
      "It is used to measure the cost of symbolic evaluation over a large number of cycles .\n",
      "\n",
      "cnn_wikiTh\n",
      "--------------------------------------------------------------------------------------------------------------------\n",
      "[UNK] is a methodology for the design over each exploration of the design in the concrete simulation .\n",
      "The work treats the test generation problem as a task of path explosion and computational eﬀort of evaluation over a large number of cycles .\n",
      "\n",
      "cnn_wikiAll\n",
      "--------------------------------------------------------------------------------------------------------------------\n",
      "[UNK] [UNK] [UNK] [UNK] -LRB- -RRB- -RRB- is a [UNK] [UNK] [UNK] [UNK] [UNK] -RRB- -RRB- -RRB- -RRB- -RRB- -RRB- -RRB- -RRB- -RRB- -RRB- -RRB- -RRB- -RRB- -RRB- -RRB- -RRB- -RRB- -RRB- .\n",
      "[UNK] was developed by [UNK] [UNK] and [UNK] [UNK] in the [UNK] [UNK] [UNK] [UNK] [UNK] -RRB- .\n",
      "[UNK] test was developed by [UNK] [UNK] and [UNK] [UNK] .\n"
     ]
    }
   ],
   "source": [
    "print_all_exp(\"th_17308_ch4\")"
   ]
  },
  {
   "cell_type": "code",
   "execution_count": null,
   "metadata": {},
   "outputs": [],
   "source": []
  }
 ],
 "metadata": {
  "kernelspec": {
   "display_name": "Python 3",
   "language": "python",
   "name": "python3"
  },
  "language_info": {
   "codemirror_mode": {
    "name": "ipython",
    "version": 3
   },
   "file_extension": ".py",
   "mimetype": "text/x-python",
   "name": "python",
   "nbconvert_exporter": "python",
   "pygments_lexer": "ipython3",
   "version": "3.7.0"
  }
 },
 "nbformat": 4,
 "nbformat_minor": 2
}
